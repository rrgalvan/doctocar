{
 "cells": [
  {
   "cell_type": "markdown",
   "metadata": {
    "deletable": true,
    "editable": true
   },
   "source": [
    "# Problema de Poisson"
   ]
  },
  {
   "cell_type": "markdown",
   "metadata": {
    "deletable": true,
    "editable": true
   },
   "source": [
    "## Introducción al problema"
   ]
  },
  {
   "cell_type": "markdown",
   "metadata": {
    "deletable": true,
    "editable": true
   },
   "source": [
    "El problema de Dirichlet para resolver la ecuación de Poisson en una región $R$ del plano es:\n",
    "$$-\\frac{\\partial^2u}{\\partial x^2}+-\\frac{\\partial^2u}{\\partial y^2}=f(x,y)\\qquad (x,y)\\in R$$\n",
    "$$u(x,y)=g(x,y)\\qquad (x,y)\\in\\partial R$$\n",
    "$$u(x,y)\\mbox{ es contínua en }\\bar{R}$$"
   ]
  },
  {
   "cell_type": "markdown",
   "metadata": {
    "deletable": true,
    "editable": true
   },
   "source": [
    "Supongamos $R=]0,1[\\times]0,1[$ y tomamos una malla de $M\\times M$ nodos interiores."
   ]
  },
  {
   "cell_type": "markdown",
   "metadata": {
    "deletable": true,
    "editable": true
   },
   "source": [
    "La ecuación de Poisson tiene la discretización siguiente:\n",
    "    $$v_{i-1,j}+v_{i+1,j}-4v_{i,j}+v_{i,j-1}+v_{i,j+1}=h^2f(x_i,y_j)$$\n",
    "junto con las condiciones de frontera de Dirichlet:\n",
    "$$v_{0j}=g(0,y_j),\\qquad v_{M+1,j}=g(1,y_j)$$\n",
    "$$v_{i0}=g(x_i,0),\\qquad v_{i,M+1}=g(y_j,1)$$\n",
    "para $i,j=1,\\ldots,M$."
   ]
  },
  {
   "cell_type": "markdown",
   "metadata": {
    "deletable": true,
    "editable": true
   },
   "source": [
    "Notemos que con esta definición\n",
    "$$h=\\frac{1}{M+1}$$"
   ]
  },
  {
   "cell_type": "markdown",
   "metadata": {
    "deletable": true,
    "editable": true
   },
   "source": [
    "## Librerias"
   ]
  },
  {
   "cell_type": "code",
   "execution_count": 4,
   "metadata": {
    "collapsed": true,
    "deletable": true,
    "editable": true
   },
   "outputs": [],
   "source": [
    "import numpy as np\n",
    "import matplotlib.pylab as plt"
   ]
  },
  {
   "cell_type": "markdown",
   "metadata": {
    "deletable": true,
    "editable": true
   },
   "source": [
    "## Función Poisson"
   ]
  },
  {
   "cell_type": "code",
   "execution_count": 5,
   "metadata": {
    "collapsed": false,
    "deletable": true,
    "editable": true
   },
   "outputs": [],
   "source": [
    "import Poisson"
   ]
  },
  {
   "cell_type": "code",
   "execution_count": 6,
   "metadata": {
    "collapsed": true,
    "deletable": true,
    "editable": true
   },
   "outputs": [],
   "source": [
    "def f(x,y):\n",
    "    return(x+y)"
   ]
  },
  {
   "cell_type": "code",
   "execution_count": 7,
   "metadata": {
    "collapsed": false,
    "deletable": true,
    "editable": true
   },
   "outputs": [],
   "source": [
    "uh = Poisson.Poisson(f,f,3)"
   ]
  },
  {
   "cell_type": "markdown",
   "metadata": {
    "deletable": true,
    "editable": true
   },
   "source": [
    "## Representación gráfica"
   ]
  },
  {
   "cell_type": "code",
   "execution_count": 8,
   "metadata": {
    "collapsed": true,
    "deletable": true,
    "editable": true
   },
   "outputs": [],
   "source": [
    "def PintarMatriz(matriz):\n",
    "    m = np.matrix(matriz)\n",
    "    fig = plt.figure()\n",
    "    ax = fig.add_subplot(1,1,1)\n",
    "    ax.set_aspect('equal')\n",
    "    plt.imshow(m, interpolation='nearest', cmap=plt.cm.ocean)\n",
    "    plt.colorbar()\n",
    "    plt.show()"
   ]
  },
  {
   "cell_type": "code",
   "execution_count": 9,
   "metadata": {
    "collapsed": false,
    "deletable": true,
    "editable": true
   },
   "outputs": [
    {
     "data": {
      "image/png": "[encoded data removed]",
      "text/plain": [
       "<matplotlib.figure.Figure at 0x7f3dec0c1278>"
      ]
     },
     "metadata": {},
     "output_type": "display_data"
    }
   ],
   "source": [
    "PintarMatriz(uh)"
   ]
  },
  {
   "cell_type": "markdown",
   "metadata": {
    "deletable": true,
    "editable": true
   },
   "source": [
    "## Solución exacta"
   ]
  },
  {
   "cell_type": "code",
   "execution_count": 22,
   "metadata": {
    "collapsed": false,
    "deletable": true,
    "editable": true
   },
   "outputs": [
    {
     "name": "stdout",
     "output_type": "stream",
     "text": [
      "Help on function f_uex in module __main__:\n",
      "\n",
      "f_uex(x, y)\n",
      "    Segundo miembro para el que se tiene una solución exacta\n",
      "\n"
     ]
    }
   ],
   "source": [
    "def uex(x,y):\n",
    "    \"Solución exacta que es cero en la frontera\"\n",
    "    return x*(x-1)*y*(y-1)/2\n",
    "\n",
    "def laplace_uex(x,y):\n",
    "    \"Laplaciano de la solución exacta anterior\"\n",
    "    return y*(y-1)+x*(x-1)\n",
    "\n",
    "def f_uex(x,y):\n",
    "    \"\"\"\n",
    "    Segundo miembro para el que se tiene una solución exacta\n",
    "    \"\"\"\n",
    "    return -laplace_uex(x,y)\n",
    "\n",
    "help(f_uex)\n",
    "M=20"
   ]
  },
  {
   "cell_type": "markdown",
   "metadata": {
    "deletable": true,
    "editable": true
   },
   "source": [
    "## Comparar tiempos:  listas vs arrays"
   ]
  },
  {
   "cell_type": "code",
   "execution_count": 23,
   "metadata": {
    "collapsed": false,
    "deletable": true,
    "editable": true
   },
   "outputs": [
    {
     "name": "stdout",
     "output_type": "stream",
     "text": [
      "1 loop, best of 3: 210 ms per loop\n"
     ]
    }
   ],
   "source": [
    "%timeit Poisson.Poisson(f_uex,uex,M)"
   ]
  },
  {
   "cell_type": "code",
   "execution_count": 24,
   "metadata": {
    "collapsed": false,
    "deletable": true,
    "editable": true
   },
   "outputs": [
    {
     "name": "stdout",
     "output_type": "stream",
     "text": [
      "100 loops, best of 3: 9.98 ms per loop\n"
     ]
    }
   ],
   "source": [
    "% timeit Poisson.PoissonNP(f_uex,uex,M)"
   ]
  },
  {
   "cell_type": "code",
   "execution_count": 13,
   "metadata": {
    "collapsed": false,
    "deletable": true,
    "editable": true
   },
   "outputs": [
    {
     "data": {
      "image/png": "[encoded data removed]",
      "text/plain": [
       "<matplotlib.figure.Figure at 0x7f3dc210fe80>"
      ]
     },
     "metadata": {},
     "output_type": "display_data"
    }
   ],
   "source": [
    "uh2 = Poisson.PoissonNP(f_uex,uex,M)\n",
    "PintarMatriz(uh2)"
   ]
  },
  {
   "cell_type": "markdown",
   "metadata": {
    "deletable": true,
    "editable": true
   },
   "source": [
    "## Calcular el error con la solución exacta"
   ]
  },
  {
   "cell_type": "code",
   "execution_count": 16,
   "metadata": {
    "collapsed": false,
    "deletable": true,
    "editable": true
   },
   "outputs": [
    {
     "data": {
      "image/png": "[encoded data removed]",
      "text/plain": [
       "<matplotlib.figure.Figure at 0x7f3dc2184f60>"
      ]
     },
     "metadata": {},
     "output_type": "display_data"
    }
   ],
   "source": [
    "def uex_to_matrix(uex, M):\n",
    "    \"Stores exact solution uex in an MxM matrix\"\n",
    "    u_matrix = np.zeros((M+2,M+2))\n",
    "    hx, hy = 1/(M+1), 1/(M+1)\n",
    "    for i in range(M+2): # Bucle en filas\n",
    "        for j in range(M+2): # Bucle en columnas\n",
    "            u_matrix[i,j] = uex(i*hx,j*hy)\n",
    "    return u_matrix\n",
    "u_matrix = uex_to_matrix(uex, M)\n",
    "PintarMatriz(u_matrix)"
   ]
  },
  {
   "cell_type": "code",
   "execution_count": 29,
   "metadata": {
    "collapsed": false,
    "deletable": true,
    "editable": true
   },
   "outputs": [
    {
     "name": "stdout",
     "output_type": "stream",
     "text": [
      "M = 10\n",
      "error = 1.7171079076e-16\n",
      "error_inf = 3.81639164715e-17\n",
      "M = 20\n",
      "error = 1.27265740328e-15\n",
      "error_inf = 1.28369537222e-16\n",
      "M = 30\n",
      "error = 3.60251318139e-15\n",
      "error_inf = 2.39391839685e-16\n"
     ]
    }
   ],
   "source": [
    "from numpy.linalg import norm\n",
    "errores_esperados = [2e-16,2e-15,4e-15]\n",
    "for M in [10,20,30]:\n",
    "    print (\"M =\", M)\n",
    "    uh_matrix = Poisson.PoissonNP(f_uex, uex, M, M**3)\n",
    "    u_matrix = uex_to_matrix(uex, M)\n",
    "    e1 = norm(uh_matrix - u_matrix)\n",
    "    i = int(M/10-1)\n",
    "    assert e1 < errores_esperados[i] \n",
    "    print (\"error =\", e1)\n",
    "    print (\"error_inf =\", np.amax(abs(uh_matrix - u_matrix)) )\n",
    "    "
   ]
  },
  {
   "cell_type": "code",
   "execution_count": null,
   "metadata": {
    "collapsed": false,
    "deletable": true,
    "editable": true
   },
   "outputs": [],
   "source": [
    "PintarMatriz(u_matrix)\n",
    "PintarMatriz(uh_matrix)"
   ]
  },
  {
   "cell_type": "code",
   "execution_count": null,
   "metadata": {
    "collapsed": true,
    "deletable": true,
    "editable": true
   },
   "outputs": [],
   "source": []
  }
 ],
 "metadata": {
  "kernelspec": {
   "display_name": "Python 3",
   "language": "python",
   "name": "python3"
  },
  "language_info": {
   "codemirror_mode": {
    "name": "ipython",
    "version": 3
   },
   "file_extension": ".py",
   "mimetype": "text/x-python",
   "name": "python",
   "nbconvert_exporter": "python",
   "pygments_lexer": "ipython3",
   "version": "3.5.2"
  }
 },
 "nbformat": 4,
 "nbformat_minor": 2
}
