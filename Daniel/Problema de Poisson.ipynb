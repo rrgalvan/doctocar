{
 "cells": [
  {
   "cell_type": "markdown",
   "metadata": {
    "deletable": true,
    "editable": true
   },
   "source": [
    "# Problema de Poisson"
   ]
  },
  {
   "cell_type": "markdown",
   "metadata": {
    "deletable": true,
    "editable": true
   },
   "source": [
    "## Introducción al problema"
   ]
  },
  {
   "cell_type": "markdown",
   "metadata": {
    "deletable": true,
    "editable": true
   },
   "source": [
    "El problema de Dirichlet para resolver la ecuación de Poisson en una región $R$ del plano es:\n",
    "$$-\\frac{\\partial^2u}{\\partial x^2}-\\frac{\\partial^2u}{\\partial y^2}=f(x,y)\\qquad (x,y)\\in R$$\n",
    "$$u(x,y)=g(x,y)\\qquad (x,y)\\in\\partial R$$\n",
    "$$u(x,y)\\mbox{ es contínua en }\\bar{R}$$"
   ]
  },
  {
   "cell_type": "markdown",
   "metadata": {
    "deletable": true,
    "editable": true
   },
   "source": [
    "Supongamos $R=]0,1[\\times]0,1[$ y tomamos una malla de $M\\times M$ nodos interiores."
   ]
  },
  {
   "cell_type": "markdown",
   "metadata": {
    "deletable": true,
    "editable": true
   },
   "source": [
    "La ecuación de Poisson tiene la discretización siguiente:\n",
    "    $$v_{i-1,j}+v_{i+1,j}-4v_{i,j}+v_{i,j-1}+v_{i,j+1}=h^2f(x_i,y_j)$$\n",
    "junto con las condiciones de frontera de Dirichlet:\n",
    "$$v_{0j}=g(0,y_j),\\qquad v_{M+1,j}=g(1,y_j)$$\n",
    "$$v_{i0}=g(x_i,0),\\qquad v_{i,M+1}=g(y_j,1)$$\n",
    "para $i,j=1,\\ldots,M$."
   ]
  },
  {
   "cell_type": "markdown",
   "metadata": {
    "deletable": true,
    "editable": true
   },
   "source": [
    "Notemos que con esta definición\n",
    "$$h=\\frac{1}{M+1}$$"
   ]
  },
  {
   "cell_type": "markdown",
   "metadata": {
    "deletable": true,
    "editable": true
   },
   "source": [
    "## Librerias"
   ]
  },
  {
   "cell_type": "code",
   "execution_count": 9,
   "metadata": {
    "collapsed": true,
    "deletable": true,
    "editable": true
   },
   "outputs": [],
   "source": [
    "import numpy as np\n",
    "import matplotlib.pylab as plt"
   ]
  },
  {
   "cell_type": "markdown",
   "metadata": {
    "deletable": true,
    "editable": true
   },
   "source": [
    "## Función Poisson"
   ]
  },
  {
   "cell_type": "code",
   "execution_count": 10,
   "metadata": {
    "collapsed": false,
    "deletable": true,
    "editable": true
   },
   "outputs": [],
   "source": [
    "def Poisson(f,g,M):\n",
    "    # Calculo h\n",
    "    h = 1/(M+1)\n",
    "    # Inicializo u.\n",
    "    v = [[0 for i in range(M+2)] for i in range(M+2)]\n",
    "    # Cargamos las condiciones de frontera horizontales.\n",
    "    for j in range(M+2):\n",
    "        v[0][j] = g(0,j*h)\n",
    "        v[M+1][j] = g(1,j*h)\n",
    "    # Cargamos las condiciones de frontera verticales.\n",
    "    for i in range(M):\n",
    "        v[i+1][0] = g((i+1)*h,0)\n",
    "        v[i+1][M+1] = g((i+1)*h,1)\n",
    "    # Rellenamos el resto de la matriz.\n",
    "    for i in range(1,M+1):\n",
    "        for j in range(1,M+1):\n",
    "            v[i][j]=0.25*(v[i-1][j]+v[i+1][j]+v[i][j-1]+v[i][j+1]-h**2*f(i*h,j*h))\n",
    "    return(v)\n",
    "\n",
    "def PoissonNumpy(f,g,M):\n",
    "    # Calculo h\n",
    "    h = 1/(M+1)\n",
    "    # Inicializo u.\n",
    "    v = np.zeros((M+2,M+2))\n",
    "    # Cargamos las condiciones de frontera horizontales.\n",
    "    for j in range(M+2):\n",
    "        v[0][j] = g(0,j*h)\n",
    "        v[M+1][j] = g(1,j*h)\n",
    "    # Cargamos las condiciones de frontera verticales.\n",
    "    for i in range(M):\n",
    "        v[i+1][0] = g((i+1)*h,0)\n",
    "        v[i+1][M+1] = g((i+1)*h,1)\n",
    "    # Rellenamos el resto de la matriz.\n",
    "    for i in range(1,M+1):\n",
    "        for j in range(1,M+1):\n",
    "            v[i][j]=0.25*(v[i-1][j]+v[i+1][j]+v[i][j-1]+v[i][j+1]-h**2*f(i*h,j*h))\n",
    "    return(v)"
   ]
  },
  {
   "cell_type": "code",
   "execution_count": 11,
   "metadata": {
    "collapsed": true,
    "deletable": true,
    "editable": true
   },
   "outputs": [],
   "source": [
    "def f(x,y):\n",
    "    return(x+y)"
   ]
  },
  {
   "cell_type": "code",
   "execution_count": 18,
   "metadata": {
    "collapsed": false,
    "deletable": true,
    "editable": true
   },
   "outputs": [
    {
     "name": "stdout",
     "output_type": "stream",
     "text": [
      "10000 loops, best of 3: 141 µs per loop\n"
     ]
    }
   ],
   "source": [
    "%timeit Poisson(f,f,10)"
   ]
  },
  {
   "cell_type": "code",
   "execution_count": 19,
   "metadata": {
    "collapsed": false
   },
   "outputs": [
    {
     "name": "stdout",
     "output_type": "stream",
     "text": [
      "1000 loops, best of 3: 370 µs per loop\n"
     ]
    }
   ],
   "source": [
    "%timeit PoissonNumpy(f,f,10)"
   ]
  },
  {
   "cell_type": "markdown",
   "metadata": {
    "deletable": true,
    "editable": true
   },
   "source": [
    "## Representación gráfica"
   ]
  },
  {
   "cell_type": "code",
   "execution_count": 14,
   "metadata": {
    "collapsed": true,
    "deletable": true,
    "editable": true
   },
   "outputs": [],
   "source": [
    "def PintarMatriz(matriz):\n",
    "    m = np.matrix(matriz)\n",
    "    fig = plt.figure()\n",
    "    ax = fig.add_subplot(1,1,1)\n",
    "    ax.set_aspect('equal')\n",
    "    plt.imshow(m, interpolation='nearest', cmap=plt.cm.ocean)\n",
    "    plt.colorbar()\n",
    "    plt.show()"
   ]
  },
  {
   "cell_type": "code",
   "execution_count": 15,
   "metadata": {
    "collapsed": false,
    "deletable": true,
    "editable": true
   },
   "outputs": [
    {
     "data": {
      "image/png": "[encoded data removed]",
      "text/plain": [
       "<matplotlib.figure.Figure at 0x7fba1208abe0>"
      ]
     },
     "metadata": {},
     "output_type": "display_data"
    }
   ],
   "source": [
    "PintarMatriz(Poisson(f,f,3))"
   ]
  },
  {
   "cell_type": "code",
   "execution_count": null,
   "metadata": {
    "collapsed": false
   },
   "outputs": [],
   "source": []
  },
  {
   "cell_type": "code",
   "execution_count": null,
   "metadata": {
    "collapsed": true
   },
   "outputs": [],
   "source": []
  }
 ],
 "metadata": {
  "kernelspec": {
   "display_name": "Python 3",
   "language": "python",
   "name": "python3"
  },
  "language_info": {
   "codemirror_mode": {
    "name": "ipython",
    "version": 3
   },
   "file_extension": ".py",
   "mimetype": "text/x-python",
   "name": "python",
   "nbconvert_exporter": "python",
   "pygments_lexer": "ipython3",
   "version": "3.5.2"
  }
 },
 "nbformat": 4,
 "nbformat_minor": 2
}
